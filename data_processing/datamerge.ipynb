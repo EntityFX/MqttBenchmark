{
 "cells": [
  {
   "cell_type": "code",
   "execution_count": null,
   "metadata": {},
   "outputs": [],
   "source": [
    "%matplotlib inline\n",
    "\n",
    "import pandas as pd\n",
    "import numpy as np\n",
    "import json"
   ]
  },
  {
   "cell_type": "code",
   "execution_count": null,
   "metadata": {},
   "outputs": [],
   "source": [
    "cpu_usage_files = [\n",
    "    \"cpu.nb.m256.2024-03-13T03_07_03__10.114.22.10.json\",\n",
    "    \"cpu.nb.m256.2024-03-13T03_07_03__10.114.22.50.json\",\n",
    "]\n",
    "\n",
    "result_files = [\n",
    "    \"results.nb.m256.2024-03-13T03_07_03.csv\",\n",
    "]"
   ]
  },
  {
   "cell_type": "code",
   "execution_count": null,
   "metadata": {},
   "outputs": [],
   "source": [
    "def load_data_frame(files_list: list):\n",
    "    df_list = []\n",
    "    \n",
    "    for filename in files_list:\n",
    "        df = pd.read_csv(filename, index_col=None, header=0)\n",
    "        df_list.append(df)\n",
    "\n",
    "    return pd.concat(df_list, axis=0, ignore_index=True)"
   ]
  },
  {
   "cell_type": "code",
   "execution_count": null,
   "metadata": {},
   "outputs": [],
   "source": [
    "def load_json_data_frame(files_list: list):\n",
    "    result_df = pd.DataFrame()\n",
    "    \n",
    "    for filename in files_list:\n",
    "        f = open(filename)\n",
    "        data = json.load(f)\n",
    "        df = pd.DataFrame()\n",
    "        column_names = []\n",
    "\n",
    "        for metric in data[\"data\"][\"result\"]:\n",
    "            metric_name = metric[\"metric\"][\"mode\"]\n",
    "            metric_values = metric[\"values\"]\n",
    "\n",
    "            if \"Time\" not in df:\n",
    "                # convert timestamp from seconds to nanoseconds\n",
    "                df[\"Time\"] = list(map(lambda x: pd.Timestamp(x[0]*1000000000), metric_values))\n",
    "\n",
    "            df[metric_name] = list(map(lambda x: float(x[1]), metric_values))\n",
    "            column_names.append(metric_name)\n",
    "\n",
    "        if \"Time\" in result_df:\n",
    "            result_df = result_df.merge(df,how='outer',on=[\"Time\"],suffixes=('', '_right'))\n",
    "            for col in column_names:\n",
    "                result_df[col] = np.max(result_df[[col, col +'_right']], axis=1)\n",
    "                result_df.drop(labels=[col +'_right'], axis=1, inplace=True)\n",
    "        else:\n",
    "            result_df = df\n",
    "\n",
    "    return result_df"
   ]
  },
  {
   "cell_type": "code",
   "execution_count": null,
   "metadata": {},
   "outputs": [],
   "source": [
    "#load cpu usage data\n",
    "cpu_df = load_json_data_frame(cpu_usage_files)\n",
    "cpu_df[\"Time\"] = pd.to_datetime(cpu_df[\"Time\"])\n",
    "cpu_df[\"usage\"] = (cpu_df[\"dpc\"] + cpu_df[\"interrupt\"] + cpu_df[\"privileged\"] + cpu_df[\"user\"])/100\n",
    "cpu_df.head()"
   ]
  },
  {
   "cell_type": "code",
   "execution_count": null,
   "metadata": {},
   "outputs": [],
   "source": [
    "#load benchmark result\n",
    "result_df = load_data_frame(result_files)\n",
    "result_df[\"test_init_end_time\"] = pd.to_datetime(result_df[\"test_init_end_time\"])\n",
    "result_df[\"test_clean_start_time\"] = pd.to_datetime(result_df[\"test_clean_start_time\"])\n",
    "result_df[\"duration\"] = pd.to_timedelta(result_df[\"duration\"])\n",
    "result_df[\"fail\"] = (result_df[\"ok\"] - result_df[\"received\"])/result_df[\"ok\"]\n",
    "result_df.head()"
   ]
  },
  {
   "cell_type": "code",
   "execution_count": null,
   "metadata": {},
   "outputs": [],
   "source": [
    "offset = 17\n",
    "for i in range(8):\n",
    "    start_time = result_df['test_init_end_time'].values[i]\n",
    "    end_time = result_df['test_clean_start_time'].values[i]\n",
    "    title = result_df['scenario'].values[i]\n",
    "    cpu_df[\n",
    "            (cpu_df[\"Time\"] > pd.to_datetime(start_time) + pd.DateOffset(seconds=offset)) & \n",
    "            (cpu_df[\"Time\"] < pd.to_datetime(end_time)+ pd.DateOffset(seconds=offset))\n",
    "        ].plot(x=\"Time\", y=[\"usage\"], title=title)"
   ]
  },
  {
   "cell_type": "code",
   "execution_count": null,
   "metadata": {},
   "outputs": [],
   "source": [
    "cpu_df[\"Time\"]\n"
   ]
  },
  {
   "cell_type": "code",
   "execution_count": null,
   "metadata": {},
   "outputs": [],
   "source": [
    "# correct date time\n",
    "cpu_df[\"Time\"] = cpu_df[\"Time\"] - pd.DateOffset(seconds=offset)"
   ]
  },
  {
   "cell_type": "code",
   "execution_count": null,
   "metadata": {},
   "outputs": [],
   "source": [
    "cpu_df[\"Time\"]"
   ]
  },
  {
   "cell_type": "code",
   "execution_count": null,
   "metadata": {},
   "outputs": [],
   "source": [
    "for i in range(8):\n",
    "    start_time = result_df['test_init_end_time'].values[i]\n",
    "    end_time = result_df['test_clean_start_time'].values[i]\n",
    "    title = result_df['scenario'].values[i]\n",
    "    cpu_df[\n",
    "            (cpu_df[\"Time\"] > pd.to_datetime(start_time)) & \n",
    "            (cpu_df[\"Time\"] < pd.to_datetime(end_time))\n",
    "        ].plot(x=\"Time\", y=[\"usage\"], title=title)"
   ]
  },
  {
   "cell_type": "code",
   "execution_count": null,
   "metadata": {},
   "outputs": [],
   "source": [
    "%matplotlib inline\n",
    "#merge cpu usage to benchmark result\n",
    "cpu_usage = []\n",
    "time_overlap = 3\n",
    "\n",
    "for index, row in result_df.iterrows():\n",
    "    row_cpu_df = cpu_df[\n",
    "        #(cpu_df[\"usage\"] > 0.1) &\n",
    "        (cpu_df[\"Time\"] > row[\"test_init_end_time\"] + pd.DateOffset(seconds=time_overlap)) & \n",
    "        (cpu_df[\"Time\"] < row[\"test_clean_start_time\"] - pd.DateOffset(seconds=time_overlap))\n",
    "        ]\n",
    "    cpu_usage.append(row_cpu_df[\"usage\"].mean())\n",
    "    row_cpu_df.plot(x=\"Time\", y=[\"usage\"], title=row[\"scenario\"])\n",
    "\n",
    "result_df['cpu_usage'] = cpu_usage\n",
    "result_df.head()"
   ]
  },
  {
   "cell_type": "code",
   "execution_count": null,
   "metadata": {},
   "outputs": [],
   "source": [
    "df = result_df[[\"params_qos\", \"scenario\", \"params_clients\", \"rps\", \"fail\", \"cpu_usage\", \"99_percent\"]]\n",
    "df.head()"
   ]
  },
  {
   "cell_type": "code",
   "execution_count": null,
   "metadata": {},
   "outputs": [],
   "source": [
    "pivot_columns = [\"params_clients\", \"rps\", \"fail\", \"cpu_usage\", \"99_percent\"] \n",
    "brokers = [\"mosq\", \"active\", \"aedes\", \"emqx\"]\n",
    "qos_levels = [0,1,2]\n",
    "\n",
    "brokers_dict = dict()\n",
    "\n",
    "for qos in qos_levels:\n",
    "    result_df = pd.DataFrame()\n",
    "    for broker in brokers:\n",
    "        broker_df = df[(df[\"params_qos\"] == qos) & (df[\"scenario\"].str.contains(broker))]\n",
    "        broker_pivot_df = pd.pivot_table(broker_df[pivot_columns], index=[\"params_clients\"])\n",
    "        brokers_dict[broker] = broker_pivot_df\n",
    "        \n",
    "    for col in pivot_columns[1:]:\n",
    "        for broker in brokers:\n",
    "            result_df[broker + \"_\" + col] = brokers_dict[broker][col]\n",
    "\n",
    "    result_df.to_csv(f\"q_{qos}.csv\")\n",
    "    print(result_df.head())"
   ]
  }
 ],
 "metadata": {
  "kernelspec": {
   "display_name": ".venv",
   "language": "python",
   "name": "python3"
  },
  "language_info": {
   "codemirror_mode": {
    "name": "ipython",
    "version": 3
   },
   "file_extension": ".py",
   "mimetype": "text/x-python",
   "name": "python",
   "nbconvert_exporter": "python",
   "pygments_lexer": "ipython3",
   "version": "3.10.4"
  }
 },
 "nbformat": 4,
 "nbformat_minor": 2
}
